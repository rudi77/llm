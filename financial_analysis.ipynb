{
 "cells": [
  {
   "cell_type": "code",
   "execution_count": 27,
   "metadata": {},
   "outputs": [
    {
     "name": "stdout",
     "output_type": "stream",
     "text": [
      "Requirement already satisfied: llama-index-llms-openai in c:\\users\\rudi\\.conda\\envs\\llm\\lib\\site-packages (0.1.15)\n",
      "Requirement already satisfied: llama-index-core<0.11.0,>=0.10.24 in c:\\users\\rudi\\.conda\\envs\\llm\\lib\\site-packages (from llama-index-llms-openai) (0.10.28)\n",
      "Requirement already satisfied: PyYAML>=6.0.1 in c:\\users\\rudi\\.conda\\envs\\llm\\lib\\site-packages (from llama-index-core<0.11.0,>=0.10.24->llama-index-llms-openai) (6.0.1)\n",
      "Requirement already satisfied: SQLAlchemy>=1.4.49 in c:\\users\\rudi\\.conda\\envs\\llm\\lib\\site-packages (from SQLAlchemy[asyncio]>=1.4.49->llama-index-core<0.11.0,>=0.10.24->llama-index-llms-openai) (2.0.29)\n",
      "Requirement already satisfied: aiohttp<4.0.0,>=3.8.6 in c:\\users\\rudi\\.conda\\envs\\llm\\lib\\site-packages (from llama-index-core<0.11.0,>=0.10.24->llama-index-llms-openai) (3.9.4)\n",
      "Requirement already satisfied: dataclasses-json in c:\\users\\rudi\\.conda\\envs\\llm\\lib\\site-packages (from llama-index-core<0.11.0,>=0.10.24->llama-index-llms-openai) (0.6.4)\n",
      "Requirement already satisfied: deprecated>=1.2.9.3 in c:\\users\\rudi\\.conda\\envs\\llm\\lib\\site-packages (from llama-index-core<0.11.0,>=0.10.24->llama-index-llms-openai) (1.2.14)\n",
      "Requirement already satisfied: dirtyjson<2.0.0,>=1.0.8 in c:\\users\\rudi\\.conda\\envs\\llm\\lib\\site-packages (from llama-index-core<0.11.0,>=0.10.24->llama-index-llms-openai) (1.0.8)\n",
      "Requirement already satisfied: fsspec>=2023.5.0 in c:\\users\\rudi\\.conda\\envs\\llm\\lib\\site-packages (from llama-index-core<0.11.0,>=0.10.24->llama-index-llms-openai) (2024.3.1)\n",
      "Requirement already satisfied: httpx in c:\\users\\rudi\\.conda\\envs\\llm\\lib\\site-packages (from llama-index-core<0.11.0,>=0.10.24->llama-index-llms-openai) (0.25.2)\n",
      "Requirement already satisfied: llamaindex-py-client<0.2.0,>=0.1.16 in c:\\users\\rudi\\.conda\\envs\\llm\\lib\\site-packages (from llama-index-core<0.11.0,>=0.10.24->llama-index-llms-openai) (0.1.17)\n",
      "Requirement already satisfied: nest-asyncio<2.0.0,>=1.5.8 in c:\\users\\rudi\\.conda\\envs\\llm\\lib\\site-packages (from llama-index-core<0.11.0,>=0.10.24->llama-index-llms-openai) (1.6.0)\n",
      "Requirement already satisfied: networkx>=3.0 in c:\\users\\rudi\\.conda\\envs\\llm\\lib\\site-packages (from llama-index-core<0.11.0,>=0.10.24->llama-index-llms-openai) (3.3)\n",
      "Requirement already satisfied: nltk<4.0.0,>=3.8.1 in c:\\users\\rudi\\.conda\\envs\\llm\\lib\\site-packages (from llama-index-core<0.11.0,>=0.10.24->llama-index-llms-openai) (3.8.1)\n",
      "Requirement already satisfied: numpy in c:\\users\\rudi\\.conda\\envs\\llm\\lib\\site-packages (from llama-index-core<0.11.0,>=0.10.24->llama-index-llms-openai) (1.26.4)\n",
      "Requirement already satisfied: openai>=1.1.0 in c:\\users\\rudi\\.conda\\envs\\llm\\lib\\site-packages (from llama-index-core<0.11.0,>=0.10.24->llama-index-llms-openai) (1.17.0)\n",
      "Requirement already satisfied: pandas in c:\\users\\rudi\\.conda\\envs\\llm\\lib\\site-packages (from llama-index-core<0.11.0,>=0.10.24->llama-index-llms-openai) (2.2.2)\n",
      "Requirement already satisfied: pillow>=9.0.0 in c:\\users\\rudi\\.conda\\envs\\llm\\lib\\site-packages (from llama-index-core<0.11.0,>=0.10.24->llama-index-llms-openai) (10.3.0)\n",
      "Requirement already satisfied: requests>=2.31.0 in c:\\users\\rudi\\.conda\\envs\\llm\\lib\\site-packages (from llama-index-core<0.11.0,>=0.10.24->llama-index-llms-openai) (2.31.0)\n",
      "Requirement already satisfied: tenacity<9.0.0,>=8.2.0 in c:\\users\\rudi\\.conda\\envs\\llm\\lib\\site-packages (from llama-index-core<0.11.0,>=0.10.24->llama-index-llms-openai) (8.2.3)\n",
      "Requirement already satisfied: tiktoken>=0.3.3 in c:\\users\\rudi\\.conda\\envs\\llm\\lib\\site-packages (from llama-index-core<0.11.0,>=0.10.24->llama-index-llms-openai) (0.6.0)\n",
      "Requirement already satisfied: tqdm<5.0.0,>=4.66.1 in c:\\users\\rudi\\.conda\\envs\\llm\\lib\\site-packages (from llama-index-core<0.11.0,>=0.10.24->llama-index-llms-openai) (4.66.2)\n",
      "Requirement already satisfied: typing-extensions>=4.5.0 in c:\\users\\rudi\\.conda\\envs\\llm\\lib\\site-packages (from llama-index-core<0.11.0,>=0.10.24->llama-index-llms-openai) (4.11.0)\n",
      "Requirement already satisfied: typing-inspect>=0.8.0 in c:\\users\\rudi\\.conda\\envs\\llm\\lib\\site-packages (from llama-index-core<0.11.0,>=0.10.24->llama-index-llms-openai) (0.9.0)\n",
      "Requirement already satisfied: wrapt in c:\\users\\rudi\\.conda\\envs\\llm\\lib\\site-packages (from llama-index-core<0.11.0,>=0.10.24->llama-index-llms-openai) (1.16.0)\n",
      "Requirement already satisfied: aiosignal>=1.1.2 in c:\\users\\rudi\\.conda\\envs\\llm\\lib\\site-packages (from aiohttp<4.0.0,>=3.8.6->llama-index-core<0.11.0,>=0.10.24->llama-index-llms-openai) (1.3.1)\n",
      "Requirement already satisfied: attrs>=17.3.0 in c:\\users\\rudi\\.conda\\envs\\llm\\lib\\site-packages (from aiohttp<4.0.0,>=3.8.6->llama-index-core<0.11.0,>=0.10.24->llama-index-llms-openai) (23.2.0)\n",
      "Requirement already satisfied: frozenlist>=1.1.1 in c:\\users\\rudi\\.conda\\envs\\llm\\lib\\site-packages (from aiohttp<4.0.0,>=3.8.6->llama-index-core<0.11.0,>=0.10.24->llama-index-llms-openai) (1.4.1)\n",
      "Requirement already satisfied: multidict<7.0,>=4.5 in c:\\users\\rudi\\.conda\\envs\\llm\\lib\\site-packages (from aiohttp<4.0.0,>=3.8.6->llama-index-core<0.11.0,>=0.10.24->llama-index-llms-openai) (6.0.5)\n",
      "Requirement already satisfied: yarl<2.0,>=1.0 in c:\\users\\rudi\\.conda\\envs\\llm\\lib\\site-packages (from aiohttp<4.0.0,>=3.8.6->llama-index-core<0.11.0,>=0.10.24->llama-index-llms-openai) (1.9.4)\n",
      "Requirement already satisfied: async-timeout<5.0,>=4.0 in c:\\users\\rudi\\.conda\\envs\\llm\\lib\\site-packages (from aiohttp<4.0.0,>=3.8.6->llama-index-core<0.11.0,>=0.10.24->llama-index-llms-openai) (4.0.3)\n",
      "Requirement already satisfied: pydantic>=1.10 in c:\\users\\rudi\\.conda\\envs\\llm\\lib\\site-packages (from llamaindex-py-client<0.2.0,>=0.1.16->llama-index-core<0.11.0,>=0.10.24->llama-index-llms-openai) (2.7.0)\n",
      "Requirement already satisfied: anyio in c:\\users\\rudi\\.conda\\envs\\llm\\lib\\site-packages (from httpx->llama-index-core<0.11.0,>=0.10.24->llama-index-llms-openai) (4.3.0)\n",
      "Requirement already satisfied: certifi in c:\\users\\rudi\\.conda\\envs\\llm\\lib\\site-packages (from httpx->llama-index-core<0.11.0,>=0.10.24->llama-index-llms-openai) (2024.2.2)\n",
      "Requirement already satisfied: httpcore==1.* in c:\\users\\rudi\\.conda\\envs\\llm\\lib\\site-packages (from httpx->llama-index-core<0.11.0,>=0.10.24->llama-index-llms-openai) (1.0.5)\n",
      "Requirement already satisfied: idna in c:\\users\\rudi\\.conda\\envs\\llm\\lib\\site-packages (from httpx->llama-index-core<0.11.0,>=0.10.24->llama-index-llms-openai) (3.7)\n",
      "Requirement already satisfied: sniffio in c:\\users\\rudi\\.conda\\envs\\llm\\lib\\site-packages (from httpx->llama-index-core<0.11.0,>=0.10.24->llama-index-llms-openai) (1.3.1)\n",
      "Requirement already satisfied: h11<0.15,>=0.13 in c:\\users\\rudi\\.conda\\envs\\llm\\lib\\site-packages (from httpcore==1.*->httpx->llama-index-core<0.11.0,>=0.10.24->llama-index-llms-openai) (0.14.0)\n",
      "Requirement already satisfied: click in c:\\users\\rudi\\.conda\\envs\\llm\\lib\\site-packages (from nltk<4.0.0,>=3.8.1->llama-index-core<0.11.0,>=0.10.24->llama-index-llms-openai) (8.1.7)\n",
      "Requirement already satisfied: joblib in c:\\users\\rudi\\.conda\\envs\\llm\\lib\\site-packages (from nltk<4.0.0,>=3.8.1->llama-index-core<0.11.0,>=0.10.24->llama-index-llms-openai) (1.4.0)\n",
      "Requirement already satisfied: regex>=2021.8.3 in c:\\users\\rudi\\.conda\\envs\\llm\\lib\\site-packages (from nltk<4.0.0,>=3.8.1->llama-index-core<0.11.0,>=0.10.24->llama-index-llms-openai) (2023.12.25)\n",
      "Requirement already satisfied: distro<2,>=1.7.0 in c:\\users\\rudi\\.conda\\envs\\llm\\lib\\site-packages (from openai>=1.1.0->llama-index-core<0.11.0,>=0.10.24->llama-index-llms-openai) (1.9.0)\n",
      "Requirement already satisfied: charset-normalizer<4,>=2 in c:\\users\\rudi\\.conda\\envs\\llm\\lib\\site-packages (from requests>=2.31.0->llama-index-core<0.11.0,>=0.10.24->llama-index-llms-openai) (3.3.2)\n",
      "Requirement already satisfied: urllib3<3,>=1.21.1 in c:\\users\\rudi\\.conda\\envs\\llm\\lib\\site-packages (from requests>=2.31.0->llama-index-core<0.11.0,>=0.10.24->llama-index-llms-openai) (2.2.1)\n",
      "Requirement already satisfied: greenlet!=0.4.17 in c:\\users\\rudi\\.conda\\envs\\llm\\lib\\site-packages (from SQLAlchemy>=1.4.49->SQLAlchemy[asyncio]>=1.4.49->llama-index-core<0.11.0,>=0.10.24->llama-index-llms-openai) (3.0.3)\n",
      "Requirement already satisfied: colorama in c:\\users\\rudi\\.conda\\envs\\llm\\lib\\site-packages (from tqdm<5.0.0,>=4.66.1->llama-index-core<0.11.0,>=0.10.24->llama-index-llms-openai) (0.4.6)\n",
      "Requirement already satisfied: mypy-extensions>=0.3.0 in c:\\users\\rudi\\.conda\\envs\\llm\\lib\\site-packages (from typing-inspect>=0.8.0->llama-index-core<0.11.0,>=0.10.24->llama-index-llms-openai) (1.0.0)\n",
      "Requirement already satisfied: marshmallow<4.0.0,>=3.18.0 in c:\\users\\rudi\\.conda\\envs\\llm\\lib\\site-packages (from dataclasses-json->llama-index-core<0.11.0,>=0.10.24->llama-index-llms-openai) (3.21.1)\n",
      "Requirement already satisfied: python-dateutil>=2.8.2 in c:\\users\\rudi\\.conda\\envs\\llm\\lib\\site-packages (from pandas->llama-index-core<0.11.0,>=0.10.24->llama-index-llms-openai) (2.9.0.post0)\n",
      "Requirement already satisfied: pytz>=2020.1 in c:\\users\\rudi\\.conda\\envs\\llm\\lib\\site-packages (from pandas->llama-index-core<0.11.0,>=0.10.24->llama-index-llms-openai) (2024.1)\n",
      "Requirement already satisfied: tzdata>=2022.7 in c:\\users\\rudi\\.conda\\envs\\llm\\lib\\site-packages (from pandas->llama-index-core<0.11.0,>=0.10.24->llama-index-llms-openai) (2024.1)\n",
      "Requirement already satisfied: exceptiongroup>=1.0.2 in c:\\users\\rudi\\.conda\\envs\\llm\\lib\\site-packages (from anyio->httpx->llama-index-core<0.11.0,>=0.10.24->llama-index-llms-openai) (1.2.0)\n",
      "Requirement already satisfied: packaging>=17.0 in c:\\users\\rudi\\.conda\\envs\\llm\\lib\\site-packages (from marshmallow<4.0.0,>=3.18.0->dataclasses-json->llama-index-core<0.11.0,>=0.10.24->llama-index-llms-openai) (24.0)\n",
      "Requirement already satisfied: annotated-types>=0.4.0 in c:\\users\\rudi\\.conda\\envs\\llm\\lib\\site-packages (from pydantic>=1.10->llamaindex-py-client<0.2.0,>=0.1.16->llama-index-core<0.11.0,>=0.10.24->llama-index-llms-openai) (0.6.0)\n",
      "Requirement already satisfied: pydantic-core==2.18.1 in c:\\users\\rudi\\.conda\\envs\\llm\\lib\\site-packages (from pydantic>=1.10->llamaindex-py-client<0.2.0,>=0.1.16->llama-index-core<0.11.0,>=0.10.24->llama-index-llms-openai) (2.18.1)\n",
      "Requirement already satisfied: six>=1.5 in c:\\users\\rudi\\.conda\\envs\\llm\\lib\\site-packages (from python-dateutil>=2.8.2->pandas->llama-index-core<0.11.0,>=0.10.24->llama-index-llms-openai) (1.16.0)\n",
      "Note: you may need to restart the kernel to use updated packages.\n",
      "Requirement already satisfied: llama-index-readers-file in c:\\users\\rudi\\.conda\\envs\\llm\\lib\\site-packages (0.1.16)\n",
      "Requirement already satisfied: beautifulsoup4<5.0.0,>=4.12.3 in c:\\users\\rudi\\.conda\\envs\\llm\\lib\\site-packages (from llama-index-readers-file) (4.12.3)\n",
      "Requirement already satisfied: llama-index-core<0.11.0,>=0.10.1 in c:\\users\\rudi\\.conda\\envs\\llm\\lib\\site-packages (from llama-index-readers-file) (0.10.28)\n",
      "Requirement already satisfied: pymupdf<2.0.0,>=1.23.21 in c:\\users\\rudi\\.conda\\envs\\llm\\lib\\site-packages (from llama-index-readers-file) (1.24.1)\n",
      "Requirement already satisfied: pypdf<5.0.0,>=4.0.1 in c:\\users\\rudi\\.conda\\envs\\llm\\lib\\site-packages (from llama-index-readers-file) (4.2.0)\n",
      "Requirement already satisfied: striprtf<0.0.27,>=0.0.26 in c:\\users\\rudi\\.conda\\envs\\llm\\lib\\site-packages (from llama-index-readers-file) (0.0.26)\n",
      "Requirement already satisfied: soupsieve>1.2 in c:\\users\\rudi\\.conda\\envs\\llm\\lib\\site-packages (from beautifulsoup4<5.0.0,>=4.12.3->llama-index-readers-file) (2.5)\n",
      "Requirement already satisfied: PyYAML>=6.0.1 in c:\\users\\rudi\\.conda\\envs\\llm\\lib\\site-packages (from llama-index-core<0.11.0,>=0.10.1->llama-index-readers-file) (6.0.1)\n",
      "Requirement already satisfied: SQLAlchemy>=1.4.49 in c:\\users\\rudi\\.conda\\envs\\llm\\lib\\site-packages (from SQLAlchemy[asyncio]>=1.4.49->llama-index-core<0.11.0,>=0.10.1->llama-index-readers-file) (2.0.29)\n",
      "Requirement already satisfied: aiohttp<4.0.0,>=3.8.6 in c:\\users\\rudi\\.conda\\envs\\llm\\lib\\site-packages (from llama-index-core<0.11.0,>=0.10.1->llama-index-readers-file) (3.9.4)\n",
      "Requirement already satisfied: dataclasses-json in c:\\users\\rudi\\.conda\\envs\\llm\\lib\\site-packages (from llama-index-core<0.11.0,>=0.10.1->llama-index-readers-file) (0.6.4)\n",
      "Requirement already satisfied: deprecated>=1.2.9.3 in c:\\users\\rudi\\.conda\\envs\\llm\\lib\\site-packages (from llama-index-core<0.11.0,>=0.10.1->llama-index-readers-file) (1.2.14)\n",
      "Requirement already satisfied: dirtyjson<2.0.0,>=1.0.8 in c:\\users\\rudi\\.conda\\envs\\llm\\lib\\site-packages (from llama-index-core<0.11.0,>=0.10.1->llama-index-readers-file) (1.0.8)\n",
      "Requirement already satisfied: fsspec>=2023.5.0 in c:\\users\\rudi\\.conda\\envs\\llm\\lib\\site-packages (from llama-index-core<0.11.0,>=0.10.1->llama-index-readers-file) (2024.3.1)\n",
      "Requirement already satisfied: httpx in c:\\users\\rudi\\.conda\\envs\\llm\\lib\\site-packages (from llama-index-core<0.11.0,>=0.10.1->llama-index-readers-file) (0.25.2)\n",
      "Requirement already satisfied: llamaindex-py-client<0.2.0,>=0.1.16 in c:\\users\\rudi\\.conda\\envs\\llm\\lib\\site-packages (from llama-index-core<0.11.0,>=0.10.1->llama-index-readers-file) (0.1.17)\n",
      "Requirement already satisfied: nest-asyncio<2.0.0,>=1.5.8 in c:\\users\\rudi\\.conda\\envs\\llm\\lib\\site-packages (from llama-index-core<0.11.0,>=0.10.1->llama-index-readers-file) (1.6.0)\n",
      "Requirement already satisfied: networkx>=3.0 in c:\\users\\rudi\\.conda\\envs\\llm\\lib\\site-packages (from llama-index-core<0.11.0,>=0.10.1->llama-index-readers-file) (3.3)\n",
      "Requirement already satisfied: nltk<4.0.0,>=3.8.1 in c:\\users\\rudi\\.conda\\envs\\llm\\lib\\site-packages (from llama-index-core<0.11.0,>=0.10.1->llama-index-readers-file) (3.8.1)\n",
      "Requirement already satisfied: numpy in c:\\users\\rudi\\.conda\\envs\\llm\\lib\\site-packages (from llama-index-core<0.11.0,>=0.10.1->llama-index-readers-file) (1.26.4)\n",
      "Requirement already satisfied: openai>=1.1.0 in c:\\users\\rudi\\.conda\\envs\\llm\\lib\\site-packages (from llama-index-core<0.11.0,>=0.10.1->llama-index-readers-file) (1.17.0)\n",
      "Requirement already satisfied: pandas in c:\\users\\rudi\\.conda\\envs\\llm\\lib\\site-packages (from llama-index-core<0.11.0,>=0.10.1->llama-index-readers-file) (2.2.2)\n",
      "Requirement already satisfied: pillow>=9.0.0 in c:\\users\\rudi\\.conda\\envs\\llm\\lib\\site-packages (from llama-index-core<0.11.0,>=0.10.1->llama-index-readers-file) (10.3.0)\n",
      "Requirement already satisfied: requests>=2.31.0 in c:\\users\\rudi\\.conda\\envs\\llm\\lib\\site-packages (from llama-index-core<0.11.0,>=0.10.1->llama-index-readers-file) (2.31.0)\n",
      "Requirement already satisfied: tenacity<9.0.0,>=8.2.0 in c:\\users\\rudi\\.conda\\envs\\llm\\lib\\site-packages (from llama-index-core<0.11.0,>=0.10.1->llama-index-readers-file) (8.2.3)\n",
      "Requirement already satisfied: tiktoken>=0.3.3 in c:\\users\\rudi\\.conda\\envs\\llm\\lib\\site-packages (from llama-index-core<0.11.0,>=0.10.1->llama-index-readers-file) (0.6.0)\n",
      "Requirement already satisfied: tqdm<5.0.0,>=4.66.1 in c:\\users\\rudi\\.conda\\envs\\llm\\lib\\site-packages (from llama-index-core<0.11.0,>=0.10.1->llama-index-readers-file) (4.66.2)\n",
      "Requirement already satisfied: typing-extensions>=4.5.0 in c:\\users\\rudi\\.conda\\envs\\llm\\lib\\site-packages (from llama-index-core<0.11.0,>=0.10.1->llama-index-readers-file) (4.11.0)\n",
      "Requirement already satisfied: typing-inspect>=0.8.0 in c:\\users\\rudi\\.conda\\envs\\llm\\lib\\site-packages (from llama-index-core<0.11.0,>=0.10.1->llama-index-readers-file) (0.9.0)\n",
      "Requirement already satisfied: wrapt in c:\\users\\rudi\\.conda\\envs\\llm\\lib\\site-packages (from llama-index-core<0.11.0,>=0.10.1->llama-index-readers-file) (1.16.0)\n",
      "Requirement already satisfied: PyMuPDFb==1.24.1 in c:\\users\\rudi\\.conda\\envs\\llm\\lib\\site-packages (from pymupdf<2.0.0,>=1.23.21->llama-index-readers-file) (1.24.1)\n",
      "Requirement already satisfied: aiosignal>=1.1.2 in c:\\users\\rudi\\.conda\\envs\\llm\\lib\\site-packages (from aiohttp<4.0.0,>=3.8.6->llama-index-core<0.11.0,>=0.10.1->llama-index-readers-file) (1.3.1)\n",
      "Requirement already satisfied: attrs>=17.3.0 in c:\\users\\rudi\\.conda\\envs\\llm\\lib\\site-packages (from aiohttp<4.0.0,>=3.8.6->llama-index-core<0.11.0,>=0.10.1->llama-index-readers-file) (23.2.0)\n",
      "Requirement already satisfied: frozenlist>=1.1.1 in c:\\users\\rudi\\.conda\\envs\\llm\\lib\\site-packages (from aiohttp<4.0.0,>=3.8.6->llama-index-core<0.11.0,>=0.10.1->llama-index-readers-file) (1.4.1)\n",
      "Requirement already satisfied: multidict<7.0,>=4.5 in c:\\users\\rudi\\.conda\\envs\\llm\\lib\\site-packages (from aiohttp<4.0.0,>=3.8.6->llama-index-core<0.11.0,>=0.10.1->llama-index-readers-file) (6.0.5)\n",
      "Requirement already satisfied: yarl<2.0,>=1.0 in c:\\users\\rudi\\.conda\\envs\\llm\\lib\\site-packages (from aiohttp<4.0.0,>=3.8.6->llama-index-core<0.11.0,>=0.10.1->llama-index-readers-file) (1.9.4)\n",
      "Requirement already satisfied: async-timeout<5.0,>=4.0 in c:\\users\\rudi\\.conda\\envs\\llm\\lib\\site-packages (from aiohttp<4.0.0,>=3.8.6->llama-index-core<0.11.0,>=0.10.1->llama-index-readers-file) (4.0.3)\n",
      "Requirement already satisfied: pydantic>=1.10 in c:\\users\\rudi\\.conda\\envs\\llm\\lib\\site-packages (from llamaindex-py-client<0.2.0,>=0.1.16->llama-index-core<0.11.0,>=0.10.1->llama-index-readers-file) (2.7.0)\n",
      "Requirement already satisfied: anyio in c:\\users\\rudi\\.conda\\envs\\llm\\lib\\site-packages (from httpx->llama-index-core<0.11.0,>=0.10.1->llama-index-readers-file) (4.3.0)\n",
      "Requirement already satisfied: certifi in c:\\users\\rudi\\.conda\\envs\\llm\\lib\\site-packages (from httpx->llama-index-core<0.11.0,>=0.10.1->llama-index-readers-file) (2024.2.2)\n",
      "Requirement already satisfied: httpcore==1.* in c:\\users\\rudi\\.conda\\envs\\llm\\lib\\site-packages (from httpx->llama-index-core<0.11.0,>=0.10.1->llama-index-readers-file) (1.0.5)\n",
      "Requirement already satisfied: idna in c:\\users\\rudi\\.conda\\envs\\llm\\lib\\site-packages (from httpx->llama-index-core<0.11.0,>=0.10.1->llama-index-readers-file) (3.7)\n",
      "Requirement already satisfied: sniffio in c:\\users\\rudi\\.conda\\envs\\llm\\lib\\site-packages (from httpx->llama-index-core<0.11.0,>=0.10.1->llama-index-readers-file) (1.3.1)\n",
      "Requirement already satisfied: h11<0.15,>=0.13 in c:\\users\\rudi\\.conda\\envs\\llm\\lib\\site-packages (from httpcore==1.*->httpx->llama-index-core<0.11.0,>=0.10.1->llama-index-readers-file) (0.14.0)\n",
      "Requirement already satisfied: click in c:\\users\\rudi\\.conda\\envs\\llm\\lib\\site-packages (from nltk<4.0.0,>=3.8.1->llama-index-core<0.11.0,>=0.10.1->llama-index-readers-file) (8.1.7)\n",
      "Requirement already satisfied: joblib in c:\\users\\rudi\\.conda\\envs\\llm\\lib\\site-packages (from nltk<4.0.0,>=3.8.1->llama-index-core<0.11.0,>=0.10.1->llama-index-readers-file) (1.4.0)\n",
      "Requirement already satisfied: regex>=2021.8.3 in c:\\users\\rudi\\.conda\\envs\\llm\\lib\\site-packages (from nltk<4.0.0,>=3.8.1->llama-index-core<0.11.0,>=0.10.1->llama-index-readers-file) (2023.12.25)\n",
      "Requirement already satisfied: distro<2,>=1.7.0 in c:\\users\\rudi\\.conda\\envs\\llm\\lib\\site-packages (from openai>=1.1.0->llama-index-core<0.11.0,>=0.10.1->llama-index-readers-file) (1.9.0)\n",
      "Requirement already satisfied: charset-normalizer<4,>=2 in c:\\users\\rudi\\.conda\\envs\\llm\\lib\\site-packages (from requests>=2.31.0->llama-index-core<0.11.0,>=0.10.1->llama-index-readers-file) (3.3.2)\n",
      "Requirement already satisfied: urllib3<3,>=1.21.1 in c:\\users\\rudi\\.conda\\envs\\llm\\lib\\site-packages (from requests>=2.31.0->llama-index-core<0.11.0,>=0.10.1->llama-index-readers-file) (2.2.1)\n",
      "Requirement already satisfied: greenlet!=0.4.17 in c:\\users\\rudi\\.conda\\envs\\llm\\lib\\site-packages (from SQLAlchemy>=1.4.49->SQLAlchemy[asyncio]>=1.4.49->llama-index-core<0.11.0,>=0.10.1->llama-index-readers-file) (3.0.3)\n",
      "Requirement already satisfied: colorama in c:\\users\\rudi\\.conda\\envs\\llm\\lib\\site-packages (from tqdm<5.0.0,>=4.66.1->llama-index-core<0.11.0,>=0.10.1->llama-index-readers-file) (0.4.6)\n",
      "Requirement already satisfied: mypy-extensions>=0.3.0 in c:\\users\\rudi\\.conda\\envs\\llm\\lib\\site-packages (from typing-inspect>=0.8.0->llama-index-core<0.11.0,>=0.10.1->llama-index-readers-file) (1.0.0)\n",
      "Requirement already satisfied: marshmallow<4.0.0,>=3.18.0 in c:\\users\\rudi\\.conda\\envs\\llm\\lib\\site-packages (from dataclasses-json->llama-index-core<0.11.0,>=0.10.1->llama-index-readers-file) (3.21.1)\n",
      "Requirement already satisfied: python-dateutil>=2.8.2 in c:\\users\\rudi\\.conda\\envs\\llm\\lib\\site-packages (from pandas->llama-index-core<0.11.0,>=0.10.1->llama-index-readers-file) (2.9.0.post0)\n",
      "Requirement already satisfied: pytz>=2020.1 in c:\\users\\rudi\\.conda\\envs\\llm\\lib\\site-packages (from pandas->llama-index-core<0.11.0,>=0.10.1->llama-index-readers-file) (2024.1)\n",
      "Requirement already satisfied: tzdata>=2022.7 in c:\\users\\rudi\\.conda\\envs\\llm\\lib\\site-packages (from pandas->llama-index-core<0.11.0,>=0.10.1->llama-index-readers-file) (2024.1)\n",
      "Requirement already satisfied: exceptiongroup>=1.0.2 in c:\\users\\rudi\\.conda\\envs\\llm\\lib\\site-packages (from anyio->httpx->llama-index-core<0.11.0,>=0.10.1->llama-index-readers-file) (1.2.0)\n",
      "Requirement already satisfied: packaging>=17.0 in c:\\users\\rudi\\.conda\\envs\\llm\\lib\\site-packages (from marshmallow<4.0.0,>=3.18.0->dataclasses-json->llama-index-core<0.11.0,>=0.10.1->llama-index-readers-file) (24.0)\n",
      "Requirement already satisfied: annotated-types>=0.4.0 in c:\\users\\rudi\\.conda\\envs\\llm\\lib\\site-packages (from pydantic>=1.10->llamaindex-py-client<0.2.0,>=0.1.16->llama-index-core<0.11.0,>=0.10.1->llama-index-readers-file) (0.6.0)\n",
      "Requirement already satisfied: pydantic-core==2.18.1 in c:\\users\\rudi\\.conda\\envs\\llm\\lib\\site-packages (from pydantic>=1.10->llamaindex-py-client<0.2.0,>=0.1.16->llama-index-core<0.11.0,>=0.10.1->llama-index-readers-file) (2.18.1)\n",
      "Requirement already satisfied: six>=1.5 in c:\\users\\rudi\\.conda\\envs\\llm\\lib\\site-packages (from python-dateutil>=2.8.2->pandas->llama-index-core<0.11.0,>=0.10.1->llama-index-readers-file) (1.16.0)\n",
      "Note: you may need to restart the kernel to use updated packages.\n",
      "Requirement already satisfied: llama-index-embeddings-openai in c:\\users\\rudi\\.conda\\envs\\llm\\lib\\site-packages (0.1.7)\n",
      "Requirement already satisfied: llama-index-core<0.11.0,>=0.10.1 in c:\\users\\rudi\\.conda\\envs\\llm\\lib\\site-packages (from llama-index-embeddings-openai) (0.10.28)\n",
      "Requirement already satisfied: PyYAML>=6.0.1 in c:\\users\\rudi\\.conda\\envs\\llm\\lib\\site-packages (from llama-index-core<0.11.0,>=0.10.1->llama-index-embeddings-openai) (6.0.1)\n",
      "Requirement already satisfied: SQLAlchemy>=1.4.49 in c:\\users\\rudi\\.conda\\envs\\llm\\lib\\site-packages (from SQLAlchemy[asyncio]>=1.4.49->llama-index-core<0.11.0,>=0.10.1->llama-index-embeddings-openai) (2.0.29)\n",
      "Requirement already satisfied: aiohttp<4.0.0,>=3.8.6 in c:\\users\\rudi\\.conda\\envs\\llm\\lib\\site-packages (from llama-index-core<0.11.0,>=0.10.1->llama-index-embeddings-openai) (3.9.4)\n",
      "Requirement already satisfied: dataclasses-json in c:\\users\\rudi\\.conda\\envs\\llm\\lib\\site-packages (from llama-index-core<0.11.0,>=0.10.1->llama-index-embeddings-openai) (0.6.4)\n",
      "Requirement already satisfied: deprecated>=1.2.9.3 in c:\\users\\rudi\\.conda\\envs\\llm\\lib\\site-packages (from llama-index-core<0.11.0,>=0.10.1->llama-index-embeddings-openai) (1.2.14)\n",
      "Requirement already satisfied: dirtyjson<2.0.0,>=1.0.8 in c:\\users\\rudi\\.conda\\envs\\llm\\lib\\site-packages (from llama-index-core<0.11.0,>=0.10.1->llama-index-embeddings-openai) (1.0.8)\n",
      "Requirement already satisfied: fsspec>=2023.5.0 in c:\\users\\rudi\\.conda\\envs\\llm\\lib\\site-packages (from llama-index-core<0.11.0,>=0.10.1->llama-index-embeddings-openai) (2024.3.1)\n",
      "Requirement already satisfied: httpx in c:\\users\\rudi\\.conda\\envs\\llm\\lib\\site-packages (from llama-index-core<0.11.0,>=0.10.1->llama-index-embeddings-openai) (0.25.2)\n",
      "Requirement already satisfied: llamaindex-py-client<0.2.0,>=0.1.16 in c:\\users\\rudi\\.conda\\envs\\llm\\lib\\site-packages (from llama-index-core<0.11.0,>=0.10.1->llama-index-embeddings-openai) (0.1.17)\n",
      "Requirement already satisfied: nest-asyncio<2.0.0,>=1.5.8 in c:\\users\\rudi\\.conda\\envs\\llm\\lib\\site-packages (from llama-index-core<0.11.0,>=0.10.1->llama-index-embeddings-openai) (1.6.0)\n",
      "Requirement already satisfied: networkx>=3.0 in c:\\users\\rudi\\.conda\\envs\\llm\\lib\\site-packages (from llama-index-core<0.11.0,>=0.10.1->llama-index-embeddings-openai) (3.3)\n",
      "Requirement already satisfied: nltk<4.0.0,>=3.8.1 in c:\\users\\rudi\\.conda\\envs\\llm\\lib\\site-packages (from llama-index-core<0.11.0,>=0.10.1->llama-index-embeddings-openai) (3.8.1)\n",
      "Requirement already satisfied: numpy in c:\\users\\rudi\\.conda\\envs\\llm\\lib\\site-packages (from llama-index-core<0.11.0,>=0.10.1->llama-index-embeddings-openai) (1.26.4)\n",
      "Requirement already satisfied: openai>=1.1.0 in c:\\users\\rudi\\.conda\\envs\\llm\\lib\\site-packages (from llama-index-core<0.11.0,>=0.10.1->llama-index-embeddings-openai) (1.17.0)\n",
      "Requirement already satisfied: pandas in c:\\users\\rudi\\.conda\\envs\\llm\\lib\\site-packages (from llama-index-core<0.11.0,>=0.10.1->llama-index-embeddings-openai) (2.2.2)\n",
      "Requirement already satisfied: pillow>=9.0.0 in c:\\users\\rudi\\.conda\\envs\\llm\\lib\\site-packages (from llama-index-core<0.11.0,>=0.10.1->llama-index-embeddings-openai) (10.3.0)\n",
      "Requirement already satisfied: requests>=2.31.0 in c:\\users\\rudi\\.conda\\envs\\llm\\lib\\site-packages (from llama-index-core<0.11.0,>=0.10.1->llama-index-embeddings-openai) (2.31.0)\n",
      "Requirement already satisfied: tenacity<9.0.0,>=8.2.0 in c:\\users\\rudi\\.conda\\envs\\llm\\lib\\site-packages (from llama-index-core<0.11.0,>=0.10.1->llama-index-embeddings-openai) (8.2.3)\n",
      "Requirement already satisfied: tiktoken>=0.3.3 in c:\\users\\rudi\\.conda\\envs\\llm\\lib\\site-packages (from llama-index-core<0.11.0,>=0.10.1->llama-index-embeddings-openai) (0.6.0)\n",
      "Requirement already satisfied: tqdm<5.0.0,>=4.66.1 in c:\\users\\rudi\\.conda\\envs\\llm\\lib\\site-packages (from llama-index-core<0.11.0,>=0.10.1->llama-index-embeddings-openai) (4.66.2)\n",
      "Requirement already satisfied: typing-extensions>=4.5.0 in c:\\users\\rudi\\.conda\\envs\\llm\\lib\\site-packages (from llama-index-core<0.11.0,>=0.10.1->llama-index-embeddings-openai) (4.11.0)\n",
      "Requirement already satisfied: typing-inspect>=0.8.0 in c:\\users\\rudi\\.conda\\envs\\llm\\lib\\site-packages (from llama-index-core<0.11.0,>=0.10.1->llama-index-embeddings-openai) (0.9.0)\n",
      "Requirement already satisfied: wrapt in c:\\users\\rudi\\.conda\\envs\\llm\\lib\\site-packages (from llama-index-core<0.11.0,>=0.10.1->llama-index-embeddings-openai) (1.16.0)\n",
      "Requirement already satisfied: aiosignal>=1.1.2 in c:\\users\\rudi\\.conda\\envs\\llm\\lib\\site-packages (from aiohttp<4.0.0,>=3.8.6->llama-index-core<0.11.0,>=0.10.1->llama-index-embeddings-openai) (1.3.1)\n",
      "Requirement already satisfied: attrs>=17.3.0 in c:\\users\\rudi\\.conda\\envs\\llm\\lib\\site-packages (from aiohttp<4.0.0,>=3.8.6->llama-index-core<0.11.0,>=0.10.1->llama-index-embeddings-openai) (23.2.0)\n",
      "Requirement already satisfied: frozenlist>=1.1.1 in c:\\users\\rudi\\.conda\\envs\\llm\\lib\\site-packages (from aiohttp<4.0.0,>=3.8.6->llama-index-core<0.11.0,>=0.10.1->llama-index-embeddings-openai) (1.4.1)\n",
      "Requirement already satisfied: multidict<7.0,>=4.5 in c:\\users\\rudi\\.conda\\envs\\llm\\lib\\site-packages (from aiohttp<4.0.0,>=3.8.6->llama-index-core<0.11.0,>=0.10.1->llama-index-embeddings-openai) (6.0.5)\n",
      "Requirement already satisfied: yarl<2.0,>=1.0 in c:\\users\\rudi\\.conda\\envs\\llm\\lib\\site-packages (from aiohttp<4.0.0,>=3.8.6->llama-index-core<0.11.0,>=0.10.1->llama-index-embeddings-openai) (1.9.4)\n",
      "Requirement already satisfied: async-timeout<5.0,>=4.0 in c:\\users\\rudi\\.conda\\envs\\llm\\lib\\site-packages (from aiohttp<4.0.0,>=3.8.6->llama-index-core<0.11.0,>=0.10.1->llama-index-embeddings-openai) (4.0.3)\n",
      "Requirement already satisfied: pydantic>=1.10 in c:\\users\\rudi\\.conda\\envs\\llm\\lib\\site-packages (from llamaindex-py-client<0.2.0,>=0.1.16->llama-index-core<0.11.0,>=0.10.1->llama-index-embeddings-openai) (2.7.0)\n",
      "Requirement already satisfied: anyio in c:\\users\\rudi\\.conda\\envs\\llm\\lib\\site-packages (from httpx->llama-index-core<0.11.0,>=0.10.1->llama-index-embeddings-openai) (4.3.0)\n",
      "Requirement already satisfied: certifi in c:\\users\\rudi\\.conda\\envs\\llm\\lib\\site-packages (from httpx->llama-index-core<0.11.0,>=0.10.1->llama-index-embeddings-openai) (2024.2.2)\n",
      "Requirement already satisfied: httpcore==1.* in c:\\users\\rudi\\.conda\\envs\\llm\\lib\\site-packages (from httpx->llama-index-core<0.11.0,>=0.10.1->llama-index-embeddings-openai) (1.0.5)\n",
      "Requirement already satisfied: idna in c:\\users\\rudi\\.conda\\envs\\llm\\lib\\site-packages (from httpx->llama-index-core<0.11.0,>=0.10.1->llama-index-embeddings-openai) (3.7)\n",
      "Requirement already satisfied: sniffio in c:\\users\\rudi\\.conda\\envs\\llm\\lib\\site-packages (from httpx->llama-index-core<0.11.0,>=0.10.1->llama-index-embeddings-openai) (1.3.1)\n",
      "Requirement already satisfied: h11<0.15,>=0.13 in c:\\users\\rudi\\.conda\\envs\\llm\\lib\\site-packages (from httpcore==1.*->httpx->llama-index-core<0.11.0,>=0.10.1->llama-index-embeddings-openai) (0.14.0)\n",
      "Requirement already satisfied: click in c:\\users\\rudi\\.conda\\envs\\llm\\lib\\site-packages (from nltk<4.0.0,>=3.8.1->llama-index-core<0.11.0,>=0.10.1->llama-index-embeddings-openai) (8.1.7)\n",
      "Requirement already satisfied: joblib in c:\\users\\rudi\\.conda\\envs\\llm\\lib\\site-packages (from nltk<4.0.0,>=3.8.1->llama-index-core<0.11.0,>=0.10.1->llama-index-embeddings-openai) (1.4.0)\n",
      "Requirement already satisfied: regex>=2021.8.3 in c:\\users\\rudi\\.conda\\envs\\llm\\lib\\site-packages (from nltk<4.0.0,>=3.8.1->llama-index-core<0.11.0,>=0.10.1->llama-index-embeddings-openai) (2023.12.25)\n",
      "Requirement already satisfied: distro<2,>=1.7.0 in c:\\users\\rudi\\.conda\\envs\\llm\\lib\\site-packages (from openai>=1.1.0->llama-index-core<0.11.0,>=0.10.1->llama-index-embeddings-openai) (1.9.0)\n",
      "Requirement already satisfied: charset-normalizer<4,>=2 in c:\\users\\rudi\\.conda\\envs\\llm\\lib\\site-packages (from requests>=2.31.0->llama-index-core<0.11.0,>=0.10.1->llama-index-embeddings-openai) (3.3.2)\n",
      "Requirement already satisfied: urllib3<3,>=1.21.1 in c:\\users\\rudi\\.conda\\envs\\llm\\lib\\site-packages (from requests>=2.31.0->llama-index-core<0.11.0,>=0.10.1->llama-index-embeddings-openai) (2.2.1)\n",
      "Requirement already satisfied: greenlet!=0.4.17 in c:\\users\\rudi\\.conda\\envs\\llm\\lib\\site-packages (from SQLAlchemy>=1.4.49->SQLAlchemy[asyncio]>=1.4.49->llama-index-core<0.11.0,>=0.10.1->llama-index-embeddings-openai) (3.0.3)\n",
      "Requirement already satisfied: colorama in c:\\users\\rudi\\.conda\\envs\\llm\\lib\\site-packages (from tqdm<5.0.0,>=4.66.1->llama-index-core<0.11.0,>=0.10.1->llama-index-embeddings-openai) (0.4.6)\n",
      "Requirement already satisfied: mypy-extensions>=0.3.0 in c:\\users\\rudi\\.conda\\envs\\llm\\lib\\site-packages (from typing-inspect>=0.8.0->llama-index-core<0.11.0,>=0.10.1->llama-index-embeddings-openai) (1.0.0)\n",
      "Requirement already satisfied: marshmallow<4.0.0,>=3.18.0 in c:\\users\\rudi\\.conda\\envs\\llm\\lib\\site-packages (from dataclasses-json->llama-index-core<0.11.0,>=0.10.1->llama-index-embeddings-openai) (3.21.1)\n",
      "Requirement already satisfied: python-dateutil>=2.8.2 in c:\\users\\rudi\\.conda\\envs\\llm\\lib\\site-packages (from pandas->llama-index-core<0.11.0,>=0.10.1->llama-index-embeddings-openai) (2.9.0.post0)\n",
      "Requirement already satisfied: pytz>=2020.1 in c:\\users\\rudi\\.conda\\envs\\llm\\lib\\site-packages (from pandas->llama-index-core<0.11.0,>=0.10.1->llama-index-embeddings-openai) (2024.1)\n",
      "Requirement already satisfied: tzdata>=2022.7 in c:\\users\\rudi\\.conda\\envs\\llm\\lib\\site-packages (from pandas->llama-index-core<0.11.0,>=0.10.1->llama-index-embeddings-openai) (2024.1)\n",
      "Requirement already satisfied: exceptiongroup>=1.0.2 in c:\\users\\rudi\\.conda\\envs\\llm\\lib\\site-packages (from anyio->httpx->llama-index-core<0.11.0,>=0.10.1->llama-index-embeddings-openai) (1.2.0)\n",
      "Requirement already satisfied: packaging>=17.0 in c:\\users\\rudi\\.conda\\envs\\llm\\lib\\site-packages (from marshmallow<4.0.0,>=3.18.0->dataclasses-json->llama-index-core<0.11.0,>=0.10.1->llama-index-embeddings-openai) (24.0)\n",
      "Requirement already satisfied: annotated-types>=0.4.0 in c:\\users\\rudi\\.conda\\envs\\llm\\lib\\site-packages (from pydantic>=1.10->llamaindex-py-client<0.2.0,>=0.1.16->llama-index-core<0.11.0,>=0.10.1->llama-index-embeddings-openai) (0.6.0)\n",
      "Requirement already satisfied: pydantic-core==2.18.1 in c:\\users\\rudi\\.conda\\envs\\llm\\lib\\site-packages (from pydantic>=1.10->llamaindex-py-client<0.2.0,>=0.1.16->llama-index-core<0.11.0,>=0.10.1->llama-index-embeddings-openai) (2.18.1)\n",
      "Requirement already satisfied: six>=1.5 in c:\\users\\rudi\\.conda\\envs\\llm\\lib\\site-packages (from python-dateutil>=2.8.2->pandas->llama-index-core<0.11.0,>=0.10.1->llama-index-embeddings-openai) (1.16.0)\n",
      "Note: you may need to restart the kernel to use updated packages.\n",
      "Collecting llama-index\n",
      "  Downloading llama_index-0.10.28-py3-none-any.whl.metadata (11 kB)\n",
      "Collecting llama-index-agent-openai<0.3.0,>=0.1.4 (from llama-index)\n",
      "  Downloading llama_index_agent_openai-0.2.2-py3-none-any.whl.metadata (677 bytes)\n",
      "Collecting llama-index-cli<0.2.0,>=0.1.2 (from llama-index)\n",
      "  Downloading llama_index_cli-0.1.11-py3-none-any.whl.metadata (1.5 kB)\n",
      "Requirement already satisfied: llama-index-core<0.11.0,>=0.10.28 in c:\\users\\rudi\\.conda\\envs\\llm\\lib\\site-packages (from llama-index) (0.10.28)\n",
      "Requirement already satisfied: llama-index-embeddings-openai<0.2.0,>=0.1.5 in c:\\users\\rudi\\.conda\\envs\\llm\\lib\\site-packages (from llama-index) (0.1.7)\n",
      "Collecting llama-index-indices-managed-llama-cloud<0.2.0,>=0.1.2 (from llama-index)\n",
      "  Downloading llama_index_indices_managed_llama_cloud-0.1.5-py3-none-any.whl.metadata (3.8 kB)\n",
      "Collecting llama-index-legacy<0.10.0,>=0.9.48 (from llama-index)\n",
      "  Downloading llama_index_legacy-0.9.48-py3-none-any.whl.metadata (8.5 kB)\n",
      "Requirement already satisfied: llama-index-llms-openai<0.2.0,>=0.1.13 in c:\\users\\rudi\\.conda\\envs\\llm\\lib\\site-packages (from llama-index) (0.1.15)\n",
      "Collecting llama-index-multi-modal-llms-openai<0.2.0,>=0.1.3 (from llama-index)\n",
      "  Downloading llama_index_multi_modal_llms_openai-0.1.5-py3-none-any.whl.metadata (677 bytes)\n",
      "Collecting llama-index-program-openai<0.2.0,>=0.1.3 (from llama-index)\n",
      "  Downloading llama_index_program_openai-0.1.5-py3-none-any.whl.metadata (715 bytes)\n",
      "Collecting llama-index-question-gen-openai<0.2.0,>=0.1.2 (from llama-index)\n",
      "  Downloading llama_index_question_gen_openai-0.1.3-py3-none-any.whl.metadata (785 bytes)\n",
      "Requirement already satisfied: llama-index-readers-file<0.2.0,>=0.1.4 in c:\\users\\rudi\\.conda\\envs\\llm\\lib\\site-packages (from llama-index) (0.1.16)\n",
      "Collecting llama-index-readers-llama-parse<0.2.0,>=0.1.2 (from llama-index)\n",
      "  Downloading llama_index_readers_llama_parse-0.1.4-py3-none-any.whl.metadata (3.5 kB)\n",
      "Requirement already satisfied: openai>=1.14.0 in c:\\users\\rudi\\.conda\\envs\\llm\\lib\\site-packages (from llama-index-agent-openai<0.3.0,>=0.1.4->llama-index) (1.17.0)\n",
      "Requirement already satisfied: PyYAML>=6.0.1 in c:\\users\\rudi\\.conda\\envs\\llm\\lib\\site-packages (from llama-index-core<0.11.0,>=0.10.28->llama-index) (6.0.1)\n",
      "Requirement already satisfied: SQLAlchemy>=1.4.49 in c:\\users\\rudi\\.conda\\envs\\llm\\lib\\site-packages (from SQLAlchemy[asyncio]>=1.4.49->llama-index-core<0.11.0,>=0.10.28->llama-index) (2.0.29)\n",
      "Requirement already satisfied: aiohttp<4.0.0,>=3.8.6 in c:\\users\\rudi\\.conda\\envs\\llm\\lib\\site-packages (from llama-index-core<0.11.0,>=0.10.28->llama-index) (3.9.4)\n",
      "Requirement already satisfied: dataclasses-json in c:\\users\\rudi\\.conda\\envs\\llm\\lib\\site-packages (from llama-index-core<0.11.0,>=0.10.28->llama-index) (0.6.4)\n",
      "Requirement already satisfied: deprecated>=1.2.9.3 in c:\\users\\rudi\\.conda\\envs\\llm\\lib\\site-packages (from llama-index-core<0.11.0,>=0.10.28->llama-index) (1.2.14)\n",
      "Requirement already satisfied: dirtyjson<2.0.0,>=1.0.8 in c:\\users\\rudi\\.conda\\envs\\llm\\lib\\site-packages (from llama-index-core<0.11.0,>=0.10.28->llama-index) (1.0.8)\n",
      "Requirement already satisfied: fsspec>=2023.5.0 in c:\\users\\rudi\\.conda\\envs\\llm\\lib\\site-packages (from llama-index-core<0.11.0,>=0.10.28->llama-index) (2024.3.1)\n",
      "Requirement already satisfied: httpx in c:\\users\\rudi\\.conda\\envs\\llm\\lib\\site-packages (from llama-index-core<0.11.0,>=0.10.28->llama-index) (0.25.2)\n",
      "Requirement already satisfied: llamaindex-py-client<0.2.0,>=0.1.16 in c:\\users\\rudi\\.conda\\envs\\llm\\lib\\site-packages (from llama-index-core<0.11.0,>=0.10.28->llama-index) (0.1.17)\n",
      "Requirement already satisfied: nest-asyncio<2.0.0,>=1.5.8 in c:\\users\\rudi\\.conda\\envs\\llm\\lib\\site-packages (from llama-index-core<0.11.0,>=0.10.28->llama-index) (1.6.0)\n",
      "Requirement already satisfied: networkx>=3.0 in c:\\users\\rudi\\.conda\\envs\\llm\\lib\\site-packages (from llama-index-core<0.11.0,>=0.10.28->llama-index) (3.3)\n",
      "Requirement already satisfied: nltk<4.0.0,>=3.8.1 in c:\\users\\rudi\\.conda\\envs\\llm\\lib\\site-packages (from llama-index-core<0.11.0,>=0.10.28->llama-index) (3.8.1)\n",
      "Requirement already satisfied: numpy in c:\\users\\rudi\\.conda\\envs\\llm\\lib\\site-packages (from llama-index-core<0.11.0,>=0.10.28->llama-index) (1.26.4)\n",
      "Requirement already satisfied: pandas in c:\\users\\rudi\\.conda\\envs\\llm\\lib\\site-packages (from llama-index-core<0.11.0,>=0.10.28->llama-index) (2.2.2)\n",
      "Requirement already satisfied: pillow>=9.0.0 in c:\\users\\rudi\\.conda\\envs\\llm\\lib\\site-packages (from llama-index-core<0.11.0,>=0.10.28->llama-index) (10.3.0)\n",
      "Requirement already satisfied: requests>=2.31.0 in c:\\users\\rudi\\.conda\\envs\\llm\\lib\\site-packages (from llama-index-core<0.11.0,>=0.10.28->llama-index) (2.31.0)\n",
      "Requirement already satisfied: tenacity<9.0.0,>=8.2.0 in c:\\users\\rudi\\.conda\\envs\\llm\\lib\\site-packages (from llama-index-core<0.11.0,>=0.10.28->llama-index) (8.2.3)\n",
      "Requirement already satisfied: tiktoken>=0.3.3 in c:\\users\\rudi\\.conda\\envs\\llm\\lib\\site-packages (from llama-index-core<0.11.0,>=0.10.28->llama-index) (0.6.0)\n",
      "Requirement already satisfied: tqdm<5.0.0,>=4.66.1 in c:\\users\\rudi\\.conda\\envs\\llm\\lib\\site-packages (from llama-index-core<0.11.0,>=0.10.28->llama-index) (4.66.2)\n",
      "Requirement already satisfied: typing-extensions>=4.5.0 in c:\\users\\rudi\\.conda\\envs\\llm\\lib\\site-packages (from llama-index-core<0.11.0,>=0.10.28->llama-index) (4.11.0)\n",
      "Requirement already satisfied: typing-inspect>=0.8.0 in c:\\users\\rudi\\.conda\\envs\\llm\\lib\\site-packages (from llama-index-core<0.11.0,>=0.10.28->llama-index) (0.9.0)\n",
      "Requirement already satisfied: wrapt in c:\\users\\rudi\\.conda\\envs\\llm\\lib\\site-packages (from llama-index-core<0.11.0,>=0.10.28->llama-index) (1.16.0)\n",
      "Requirement already satisfied: beautifulsoup4<5.0.0,>=4.12.3 in c:\\users\\rudi\\.conda\\envs\\llm\\lib\\site-packages (from llama-index-readers-file<0.2.0,>=0.1.4->llama-index) (4.12.3)\n",
      "Requirement already satisfied: pymupdf<2.0.0,>=1.23.21 in c:\\users\\rudi\\.conda\\envs\\llm\\lib\\site-packages (from llama-index-readers-file<0.2.0,>=0.1.4->llama-index) (1.24.1)\n",
      "Requirement already satisfied: pypdf<5.0.0,>=4.0.1 in c:\\users\\rudi\\.conda\\envs\\llm\\lib\\site-packages (from llama-index-readers-file<0.2.0,>=0.1.4->llama-index) (4.2.0)\n",
      "Requirement already satisfied: striprtf<0.0.27,>=0.0.26 in c:\\users\\rudi\\.conda\\envs\\llm\\lib\\site-packages (from llama-index-readers-file<0.2.0,>=0.1.4->llama-index) (0.0.26)\n",
      "Collecting llama-parse<0.5.0,>=0.4.0 (from llama-index-readers-llama-parse<0.2.0,>=0.1.2->llama-index)\n",
      "  Downloading llama_parse-0.4.0-py3-none-any.whl.metadata (3.4 kB)\n",
      "Requirement already satisfied: aiosignal>=1.1.2 in c:\\users\\rudi\\.conda\\envs\\llm\\lib\\site-packages (from aiohttp<4.0.0,>=3.8.6->llama-index-core<0.11.0,>=0.10.28->llama-index) (1.3.1)\n",
      "Requirement already satisfied: attrs>=17.3.0 in c:\\users\\rudi\\.conda\\envs\\llm\\lib\\site-packages (from aiohttp<4.0.0,>=3.8.6->llama-index-core<0.11.0,>=0.10.28->llama-index) (23.2.0)\n",
      "Requirement already satisfied: frozenlist>=1.1.1 in c:\\users\\rudi\\.conda\\envs\\llm\\lib\\site-packages (from aiohttp<4.0.0,>=3.8.6->llama-index-core<0.11.0,>=0.10.28->llama-index) (1.4.1)\n",
      "Requirement already satisfied: multidict<7.0,>=4.5 in c:\\users\\rudi\\.conda\\envs\\llm\\lib\\site-packages (from aiohttp<4.0.0,>=3.8.6->llama-index-core<0.11.0,>=0.10.28->llama-index) (6.0.5)\n",
      "Requirement already satisfied: yarl<2.0,>=1.0 in c:\\users\\rudi\\.conda\\envs\\llm\\lib\\site-packages (from aiohttp<4.0.0,>=3.8.6->llama-index-core<0.11.0,>=0.10.28->llama-index) (1.9.4)\n",
      "Requirement already satisfied: async-timeout<5.0,>=4.0 in c:\\users\\rudi\\.conda\\envs\\llm\\lib\\site-packages (from aiohttp<4.0.0,>=3.8.6->llama-index-core<0.11.0,>=0.10.28->llama-index) (4.0.3)\n",
      "Requirement already satisfied: soupsieve>1.2 in c:\\users\\rudi\\.conda\\envs\\llm\\lib\\site-packages (from beautifulsoup4<5.0.0,>=4.12.3->llama-index-readers-file<0.2.0,>=0.1.4->llama-index) (2.5)\n",
      "Requirement already satisfied: pydantic>=1.10 in c:\\users\\rudi\\.conda\\envs\\llm\\lib\\site-packages (from llamaindex-py-client<0.2.0,>=0.1.16->llama-index-core<0.11.0,>=0.10.28->llama-index) (2.7.0)\n",
      "Requirement already satisfied: anyio in c:\\users\\rudi\\.conda\\envs\\llm\\lib\\site-packages (from httpx->llama-index-core<0.11.0,>=0.10.28->llama-index) (4.3.0)\n",
      "Requirement already satisfied: certifi in c:\\users\\rudi\\.conda\\envs\\llm\\lib\\site-packages (from httpx->llama-index-core<0.11.0,>=0.10.28->llama-index) (2024.2.2)\n",
      "Requirement already satisfied: httpcore==1.* in c:\\users\\rudi\\.conda\\envs\\llm\\lib\\site-packages (from httpx->llama-index-core<0.11.0,>=0.10.28->llama-index) (1.0.5)\n",
      "Requirement already satisfied: idna in c:\\users\\rudi\\.conda\\envs\\llm\\lib\\site-packages (from httpx->llama-index-core<0.11.0,>=0.10.28->llama-index) (3.7)\n",
      "Requirement already satisfied: sniffio in c:\\users\\rudi\\.conda\\envs\\llm\\lib\\site-packages (from httpx->llama-index-core<0.11.0,>=0.10.28->llama-index) (1.3.1)\n",
      "Requirement already satisfied: h11<0.15,>=0.13 in c:\\users\\rudi\\.conda\\envs\\llm\\lib\\site-packages (from httpcore==1.*->httpx->llama-index-core<0.11.0,>=0.10.28->llama-index) (0.14.0)\n",
      "Requirement already satisfied: click in c:\\users\\rudi\\.conda\\envs\\llm\\lib\\site-packages (from nltk<4.0.0,>=3.8.1->llama-index-core<0.11.0,>=0.10.28->llama-index) (8.1.7)\n",
      "Requirement already satisfied: joblib in c:\\users\\rudi\\.conda\\envs\\llm\\lib\\site-packages (from nltk<4.0.0,>=3.8.1->llama-index-core<0.11.0,>=0.10.28->llama-index) (1.4.0)\n",
      "Requirement already satisfied: regex>=2021.8.3 in c:\\users\\rudi\\.conda\\envs\\llm\\lib\\site-packages (from nltk<4.0.0,>=3.8.1->llama-index-core<0.11.0,>=0.10.28->llama-index) (2023.12.25)\n",
      "Requirement already satisfied: distro<2,>=1.7.0 in c:\\users\\rudi\\.conda\\envs\\llm\\lib\\site-packages (from openai>=1.14.0->llama-index-agent-openai<0.3.0,>=0.1.4->llama-index) (1.9.0)\n",
      "Requirement already satisfied: PyMuPDFb==1.24.1 in c:\\users\\rudi\\.conda\\envs\\llm\\lib\\site-packages (from pymupdf<2.0.0,>=1.23.21->llama-index-readers-file<0.2.0,>=0.1.4->llama-index) (1.24.1)\n",
      "Requirement already satisfied: charset-normalizer<4,>=2 in c:\\users\\rudi\\.conda\\envs\\llm\\lib\\site-packages (from requests>=2.31.0->llama-index-core<0.11.0,>=0.10.28->llama-index) (3.3.2)\n",
      "Requirement already satisfied: urllib3<3,>=1.21.1 in c:\\users\\rudi\\.conda\\envs\\llm\\lib\\site-packages (from requests>=2.31.0->llama-index-core<0.11.0,>=0.10.28->llama-index) (2.2.1)\n",
      "Requirement already satisfied: greenlet!=0.4.17 in c:\\users\\rudi\\.conda\\envs\\llm\\lib\\site-packages (from SQLAlchemy>=1.4.49->SQLAlchemy[asyncio]>=1.4.49->llama-index-core<0.11.0,>=0.10.28->llama-index) (3.0.3)\n",
      "Requirement already satisfied: colorama in c:\\users\\rudi\\.conda\\envs\\llm\\lib\\site-packages (from tqdm<5.0.0,>=4.66.1->llama-index-core<0.11.0,>=0.10.28->llama-index) (0.4.6)\n",
      "Requirement already satisfied: mypy-extensions>=0.3.0 in c:\\users\\rudi\\.conda\\envs\\llm\\lib\\site-packages (from typing-inspect>=0.8.0->llama-index-core<0.11.0,>=0.10.28->llama-index) (1.0.0)\n",
      "Requirement already satisfied: marshmallow<4.0.0,>=3.18.0 in c:\\users\\rudi\\.conda\\envs\\llm\\lib\\site-packages (from dataclasses-json->llama-index-core<0.11.0,>=0.10.28->llama-index) (3.21.1)\n",
      "Requirement already satisfied: python-dateutil>=2.8.2 in c:\\users\\rudi\\.conda\\envs\\llm\\lib\\site-packages (from pandas->llama-index-core<0.11.0,>=0.10.28->llama-index) (2.9.0.post0)\n",
      "Requirement already satisfied: pytz>=2020.1 in c:\\users\\rudi\\.conda\\envs\\llm\\lib\\site-packages (from pandas->llama-index-core<0.11.0,>=0.10.28->llama-index) (2024.1)\n",
      "Requirement already satisfied: tzdata>=2022.7 in c:\\users\\rudi\\.conda\\envs\\llm\\lib\\site-packages (from pandas->llama-index-core<0.11.0,>=0.10.28->llama-index) (2024.1)\n",
      "Requirement already satisfied: exceptiongroup>=1.0.2 in c:\\users\\rudi\\.conda\\envs\\llm\\lib\\site-packages (from anyio->httpx->llama-index-core<0.11.0,>=0.10.28->llama-index) (1.2.0)\n",
      "Requirement already satisfied: packaging>=17.0 in c:\\users\\rudi\\.conda\\envs\\llm\\lib\\site-packages (from marshmallow<4.0.0,>=3.18.0->dataclasses-json->llama-index-core<0.11.0,>=0.10.28->llama-index) (24.0)\n",
      "Requirement already satisfied: annotated-types>=0.4.0 in c:\\users\\rudi\\.conda\\envs\\llm\\lib\\site-packages (from pydantic>=1.10->llamaindex-py-client<0.2.0,>=0.1.16->llama-index-core<0.11.0,>=0.10.28->llama-index) (0.6.0)\n",
      "Requirement already satisfied: pydantic-core==2.18.1 in c:\\users\\rudi\\.conda\\envs\\llm\\lib\\site-packages (from pydantic>=1.10->llamaindex-py-client<0.2.0,>=0.1.16->llama-index-core<0.11.0,>=0.10.28->llama-index) (2.18.1)\n",
      "Requirement already satisfied: six>=1.5 in c:\\users\\rudi\\.conda\\envs\\llm\\lib\\site-packages (from python-dateutil>=2.8.2->pandas->llama-index-core<0.11.0,>=0.10.28->llama-index) (1.16.0)\n",
      "Downloading llama_index-0.10.28-py3-none-any.whl (6.9 kB)\n",
      "Downloading llama_index_agent_openai-0.2.2-py3-none-any.whl (12 kB)\n",
      "Downloading llama_index_cli-0.1.11-py3-none-any.whl (26 kB)\n",
      "Downloading llama_index_indices_managed_llama_cloud-0.1.5-py3-none-any.whl (6.7 kB)\n",
      "Downloading llama_index_legacy-0.9.48-py3-none-any.whl (2.0 MB)\n",
      "   ---------------------------------------- 0.0/2.0 MB ? eta -:--:--\n",
      "   ---- ----------------------------------- 0.2/2.0 MB 5.0 MB/s eta 0:00:01\n",
      "   ----------- ---------------------------- 0.6/2.0 MB 5.9 MB/s eta 0:00:01\n",
      "   ---------------- ----------------------- 0.8/2.0 MB 5.9 MB/s eta 0:00:01\n",
      "   ------------------------- -------------- 1.2/2.0 MB 6.5 MB/s eta 0:00:01\n",
      "   -------------------------------- ------- 1.6/2.0 MB 6.8 MB/s eta 0:00:01\n",
      "   ------------------------------------ --- 1.8/2.0 MB 6.8 MB/s eta 0:00:01\n",
      "   ---------------------------------------- 2.0/2.0 MB 6.3 MB/s eta 0:00:00\n",
      "Downloading llama_index_multi_modal_llms_openai-0.1.5-py3-none-any.whl (5.8 kB)\n",
      "Downloading llama_index_program_openai-0.1.5-py3-none-any.whl (4.1 kB)\n",
      "Downloading llama_index_question_gen_openai-0.1.3-py3-none-any.whl (2.9 kB)\n",
      "Downloading llama_index_readers_llama_parse-0.1.4-py3-none-any.whl (2.5 kB)\n",
      "Downloading llama_parse-0.4.0-py3-none-any.whl (7.0 kB)\n",
      "Installing collected packages: llama-index-legacy, llama-parse, llama-index-indices-managed-llama-cloud, llama-index-readers-llama-parse, llama-index-multi-modal-llms-openai, llama-index-cli, llama-index-agent-openai, llama-index-program-openai, llama-index-question-gen-openai, llama-index\n",
      "Successfully installed llama-index-0.10.28 llama-index-agent-openai-0.2.2 llama-index-cli-0.1.11 llama-index-indices-managed-llama-cloud-0.1.5 llama-index-legacy-0.9.48 llama-index-multi-modal-llms-openai-0.1.5 llama-index-program-openai-0.1.5 llama-index-question-gen-openai-0.1.3 llama-index-readers-llama-parse-0.1.4 llama-parse-0.4.0\n",
      "Note: you may need to restart the kernel to use updated packages.\n"
     ]
    }
   ],
   "source": [
    "%pip install llama-index-llms-openai\n",
    "%pip install llama-index-readers-file\n",
    "%pip install llama-index-embeddings-openai\n",
    "%pip install llama-index"
   ]
  },
  {
   "cell_type": "code",
   "execution_count": 24,
   "metadata": {},
   "outputs": [],
   "source": [
    "from llama_index.core import (\n",
    "    SimpleDirectoryReader,\n",
    "    VectorStoreIndex,\n",
    "    StorageContext,\n",
    "    load_index_from_storage,\n",
    ")\n",
    "\n",
    "from llama_index.core.tools import QueryEngineTool, ToolMetadata"
   ]
  },
  {
   "cell_type": "code",
   "execution_count": 25,
   "metadata": {},
   "outputs": [],
   "source": [
    "try:\n",
    "    storage_context = StorageContext.from_defaults(\n",
    "        persist_dir=\"./storage/lyft\"\n",
    "    )\n",
    "    lyft_index = load_index_from_storage(storage_context)\n",
    "\n",
    "    storage_context = StorageContext.from_defaults(\n",
    "        persist_dir=\"./storage/uber\"\n",
    "    )\n",
    "    uber_index = load_index_from_storage(storage_context)\n",
    "\n",
    "    index_loaded = True\n",
    "except:\n",
    "    index_loaded = False"
   ]
  },
  {
   "cell_type": "code",
   "execution_count": null,
   "metadata": {},
   "outputs": [],
   "source": [
    "!powershell -command \"& {pwd}\"\n",
    "!mkdir \"data/10k/\"\n",
    "!powershell -command \"& {Invoke-WebRequest 'https://s23.q4cdn.com/407969754/files/doc_financials/2022/ar/2021-Annual-Report.pdf' -OutFile 'data/10k/uber_2021.pdf'}\"\n",
    "!powershell -command \"& {Invoke-WebRequest 'https://s27.q4cdn.com/263799617/files/doc_financials/2021/AR/Lyft-Annual-Report-2021.pdf' -OutFile 'data/10k/lyft_2021.pdf'}\""
   ]
  },
  {
   "cell_type": "code",
   "execution_count": 58,
   "metadata": {},
   "outputs": [],
   "source": [
    "# set openai api key as environment variable\n",
    "import os\n",
    "os.environ[\"OPENAI_API_KEY\"] = \"sk-API-KEY\"\n",
    "\n",
    "if not index_loaded:\n",
    "    # load data\n",
    "    lyft_docs = SimpleDirectoryReader(\n",
    "        input_files=[\"./data/10k/lyft_2021.pdf\"]\n",
    "    ).load_data()\n",
    "    uber_docs = SimpleDirectoryReader(\n",
    "        input_files=[\"./data/10k/uber_2021.pdf\"]\n",
    "    ).load_data()\n",
    "\n",
    "    # build index\n",
    "    lyft_index = VectorStoreIndex.from_documents(lyft_docs)\n",
    "    uber_index = VectorStoreIndex.from_documents(uber_docs)\n",
    "\n",
    "    # persist index\n",
    "    lyft_index.storage_context.persist(persist_dir=\"./storage/lyft\")\n",
    "    uber_index.storage_context.persist(persist_dir=\"./storage/uber\")"
   ]
  },
  {
   "cell_type": "code",
   "execution_count": 33,
   "metadata": {},
   "outputs": [
    {
     "name": "stderr",
     "output_type": "stream",
     "text": [
      "c:\\Users\\rudi\\.conda\\envs\\llm\\lib\\site-packages\\tqdm\\auto.py:21: TqdmWarning: IProgress not found. Please update jupyter and ipywidgets. See https://ipywidgets.readthedocs.io/en/stable/user_install.html\n",
      "  from .autonotebook import tqdm as notebook_tqdm\n",
      "c:\\Users\\rudi\\.conda\\envs\\llm\\lib\\site-packages\\huggingface_hub\\file_download.py:148: UserWarning: `huggingface_hub` cache-system uses symlinks by default to efficiently store duplicated files but your machine does not support them in C:\\Users\\rudi\\AppData\\Local\\llama_index\\models--BAAI--bge-small-en-v1.5. Caching files will still work but in a degraded version that might require more space on your disk. This warning can be disabled by setting the `HF_HUB_DISABLE_SYMLINKS_WARNING` environment variable. For more details, see https://huggingface.co/docs/huggingface_hub/how-to-cache#limitations.\n",
      "To support symlinks on Windows, you either need to activate Developer Mode or to run Python as an administrator. In order to see activate developer mode, see this article: https://docs.microsoft.com/en-us/windows/apps/get-started/enable-your-device-for-development\n",
      "  warnings.warn(message)\n"
     ]
    }
   ],
   "source": [
    "from llama_index.embeddings.huggingface import HuggingFaceEmbedding\n",
    "from llama_index.core import Settings\n",
    "\n",
    "Settings.embed_model = HuggingFaceEmbedding(\n",
    "    model_name=\"BAAI/bge-small-en-v1.5\"\n",
    ")"
   ]
  },
  {
   "cell_type": "code",
   "execution_count": 91,
   "metadata": {},
   "outputs": [],
   "source": [
    "# if not index_loaded:\n",
    "#     # load data\n",
    "#     lyft_docs = SimpleDirectoryReader(\n",
    "#         input_files=[\"./data/10k/lyft_2021.pdf\"]\n",
    "#     ).load_data()\n",
    "#     uber_docs = SimpleDirectoryReader(\n",
    "#         input_files=[\"./data/10k/uber_2021.pdf\"]\n",
    "#     ).load_data()\n",
    "\n",
    "#     # build index\n",
    "#     lyft_index = VectorStoreIndex.from_documents(lyft_docs)\n",
    "#     uber_index = VectorStoreIndex.from_documents(uber_docs)\n",
    "\n",
    "#     # persist index\n",
    "#     lyft_index.storage_context.persist(persist_dir=\"./storage/lyft\")\n",
    "#     uber_index.storage_context.persist(persist_dir=\"./storage/uber\")\n",
    "\n",
    "if not index_loaded:\n",
    "    # load data\n",
    "    transunet_docs = SimpleDirectoryReader(\n",
    "        input_files=[r\"C:\\Users\\rudi\\Documents\\tmp\\2102.04306.pdf\"]\n",
    "    ).load_data()\n",
    "\n",
    "    # build index\n",
    "    transunet_docs_index = VectorStoreIndex.from_documents(transunet_docs)\n",
    "\n",
    "    # persist index\n",
    "    transunet_docs_index.storage_context.persist(persist_dir=\"./storage/transunet_docs\")"
   ]
  },
  {
   "cell_type": "code",
   "execution_count": 81,
   "metadata": {},
   "outputs": [],
   "source": [
    "# lyft_engine = lyft_index.as_query_engine(similarity_top_k=10)\n",
    "# uber_engine = uber_index.as_query_engine(similarity_top_k=10)\n",
    "\n",
    "transunet_engine = transunet_docs_index.as_query_engine(similarity_top_k=10)"
   ]
  },
  {
   "cell_type": "code",
   "execution_count": 92,
   "metadata": {},
   "outputs": [],
   "source": [
    "query_engine_tools = [\n",
    "    QueryEngineTool(\n",
    "        query_engine=transunet_engine,\n",
    "        metadata=ToolMetadata(\n",
    "            name=\"transunet_docs\",\n",
    "            description=(\n",
    "                \"Provides information about the transunet paper. \"\n",
    "                \"Use a detailed plain text question as input to the tool.\"\n",
    "            ),\n",
    "        ),\n",
    "    ),\n",
    "    # QueryEngineTool(\n",
    "    #     query_engine=uber_engine,\n",
    "    #     metadata=ToolMetadata(\n",
    "    #         name=\"uber_10k\",\n",
    "    #         description=(\n",
    "    #             \"Provides information about Uber financials for year 2021. \"\n",
    "    #             \"Use a detailed plain text question as input to the tool.\"\n",
    "    #         ),\n",
    "    #     ),\n",
    "    # ),\n",
    "]"
   ]
  },
  {
   "cell_type": "code",
   "execution_count": 51,
   "metadata": {},
   "outputs": [],
   "source": [
    "from llama_index.core.agent import ReActAgent\n",
    "from llama_index.llms.openai import OpenAI"
   ]
  },
  {
   "cell_type": "code",
   "execution_count": 84,
   "metadata": {},
   "outputs": [],
   "source": [
    "llm = OpenAI(odel=\"gpt-3.5-turbo-instruct\")\n",
    "\n",
    "agent = ReActAgent.from_tools(\n",
    "    query_engine_tools,\n",
    "    llm=llm,\n",
    "    verbose=True,\n",
    "    # context=context\n",
    ")"
   ]
  },
  {
   "cell_type": "code",
   "execution_count": 93,
   "metadata": {},
   "outputs": [
    {
     "name": "stdout",
     "output_type": "stream",
     "text": [
      "\u001b[1;3;38;5;200mThought: The current language of the user is: English. I need to use a tool to help me answer the question.\n",
      "Action: transunet_docs\n",
      "Action Input: {'input': 'What is the transunet paper about? For what is it used?'}\n",
      "\u001b[0m\u001b[1;3;34mObservation: The TransUNet paper explores the fusion of Transformers and U-Net for medical image segmentation applications. It introduces TransUNet as a robust solution for medical image segmentation by merging the broad self-attention capabilities of Transformers with the accurate localization skills of U-Net. TransUNet is designed to enhance segmentation precision and maintain detailed information in medical images, making it a valuable tool for tasks like multi-organ segmentation and cardiac segmentation in healthcare settings.\n",
      "\u001b[0m\u001b[1;3;38;5;200mThought: I can answer without using any more tools. I'll use the user's language to answer\n",
      "Answer: The TransUNet paper introduces a framework that combines Transformers and U-Net for medical image segmentation tasks. It is used to improve segmentation accuracy and maintain detailed information in medical images, making it valuable for applications like multi-organ segmentation and cardiac segmentation.\n",
      "\u001b[0mThe TransUNet paper introduces a framework that combines Transformers and U-Net for medical image segmentation tasks. It is used to improve segmentation accuracy and maintain detailed information in medical images, making it valuable for applications like multi-organ segmentation and cardiac segmentation.\n"
     ]
    }
   ],
   "source": [
    "response = agent.chat(\"What is the transunet paper about? For what is it used?\")\n",
    "print(response)"
   ]
  },
  {
   "cell_type": "code",
   "execution_count": 94,
   "metadata": {},
   "outputs": [
    {
     "name": "stdout",
     "output_type": "stream",
     "text": [
      "\u001b[1;3;38;5;200mThought: I can answer without using any more tools. I'll use the user's language to answer\n",
      "Answer: The TransUNet architecture combines the Transformer model for global context encoding with the U-Net model for spatial information recovery and detail enhancement. The encoder part of TransUNet utilizes self-attention mechanisms from Transformers to capture long-range dependencies, while the decoder refines the segmentation masks using the U-Net structure. This hybrid architecture allows TransUNet to effectively integrate global and local information, leading to improved performance in medical image segmentation tasks.\n",
      "\u001b[0mThe TransUNet architecture combines the Transformer model for global context encoding with the U-Net model for spatial information recovery and detail enhancement. The encoder part of TransUNet utilizes self-attention mechanisms from Transformers to capture long-range dependencies, while the decoder refines the segmentation masks using the U-Net structure. This hybrid architecture allows TransUNet to effectively integrate global and local information, leading to improved performance in medical image segmentation tasks.\n"
     ]
    }
   ],
   "source": [
    "response = agent.chat(\"Tell more about its architecture. Especially about the transformer and unet parts.\")\n",
    "print(response)"
   ]
  },
  {
   "cell_type": "code",
   "execution_count": 96,
   "metadata": {},
   "outputs": [
    {
     "name": "stdout",
     "output_type": "stream",
     "text": [
      "\u001b[1;3;38;5;200mThought: The current language of the user is: English. I need to use a tool to help me answer the question.\n",
      "Action: transunet_docs\n",
      "Action Input: {'input': 'How is the paper structured? What are the main sections?'}\n",
      "\u001b[0m\u001b[1;3;34mObservation: The paper is structured into several sections. The main sections include:\n",
      "1. Introduction\n",
      "2. Background and Related Work\n",
      "3. Methodology\n",
      "4. Experiments and Results\n",
      "5. Discussion\n",
      "6. Conclusion\n",
      "\u001b[0m\u001b[1;3;38;5;200mThought: I can answer without using any more tools. I'll use the user's language to answer\n",
      "Answer: The TransUNet paper is structured into several main sections, including Introduction, Background and Related Work, Methodology, Experiments and Results, Discussion, and Conclusion. Each section provides valuable information about the motivation, implementation, and evaluation of the TransUNet framework for medical image segmentation tasks.\n",
      "\u001b[0mThe TransUNet paper is structured into several main sections, including Introduction, Background and Related Work, Methodology, Experiments and Results, Discussion, and Conclusion. Each section provides valuable information about the motivation, implementation, and evaluation of the TransUNet framework for medical image segmentation tasks.\n"
     ]
    }
   ],
   "source": [
    "response = agent.chat(\"How is the paper structured? What are the main sections?\")\n",
    "print(response)"
   ]
  },
  {
   "cell_type": "code",
   "execution_count": 97,
   "metadata": {},
   "outputs": [
    {
     "name": "stdout",
     "output_type": "stream",
     "text": [
      "\u001b[1;3;38;5;200mThought: I can answer without using any more tools. I'll use the user's language to answer\n",
      "Answer: The conclusion of the TransUNet paper highlights the effectiveness of the proposed framework in improving medical image segmentation tasks by combining the strengths of Transformers and U-Net. The main findings include the superior performance of TransUNet compared to other methods in various medical applications, showcasing the importance of integrating global context encoding and spatial information recovery for accurate segmentation results.\n",
      "\u001b[0mThe conclusion of the TransUNet paper highlights the effectiveness of the proposed framework in improving medical image segmentation tasks by combining the strengths of Transformers and U-Net. The main findings include the superior performance of TransUNet compared to other methods in various medical applications, showcasing the importance of integrating global context encoding and spatial information recovery for accurate segmentation results.\n"
     ]
    }
   ],
   "source": [
    "response = agent.chat(\"Summarize the conclusion of the paper. What are the main findings?\")\n",
    "print(response)"
   ]
  },
  {
   "cell_type": "code",
   "execution_count": 78,
   "metadata": {},
   "outputs": [
    {
     "name": "stdout",
     "output_type": "stream",
     "text": [
      "\u001b[1;3;38;5;200mThought: I need to use a tool to help me answer the question.\n",
      "Action: lyft_10k\n",
      "Action Input: {'input': \"What was Lyft's revenue growth in 2021?\"}\n",
      "\u001b[0m\u001b[1;3;34mObservation: Lyft's revenue grew by $843,642,000 in 2021 compared to the previous year.\n",
      "\u001b[0m\u001b[1;3;38;5;200mThought: I can answer without using any more tools. I'll use the user's language to answer\n",
      "Answer: Lyft's revenue growth in 2021 was $843,642,000 compared to the previous year.\n",
      "\u001b[0mLyft's revenue growth in 2021 was $843,642,000 compared to the previous year.\n"
     ]
    }
   ],
   "source": [
    "response = agent.chat(\"What was Lyft's revenue growth in 2021?\")\n",
    "print(str(response))"
   ]
  },
  {
   "cell_type": "code",
   "execution_count": 79,
   "metadata": {},
   "outputs": [
    {
     "name": "stdout",
     "output_type": "stream",
     "text": [
      "\u001b[1;3;38;5;200mThought: I need to compare the revenue growth of Lyft and Uber in 2021.\n",
      "Action: lyft_10k\n",
      "Action Input: {'input': \"What was Lyft's revenue growth in 2021?\"}\n",
      "\u001b[0m\u001b[1;3;34mObservation: Lyft's revenue grew by $843,642,000 in 2021 compared to the previous year.\n",
      "\u001b[0m\u001b[1;3;38;5;200mThought: I have the information about Lyft's revenue growth in 2021. Now, I need to retrieve the information about Uber's revenue growth in 2021.\n",
      "Action: uber_10k\n",
      "Action Input: {'input': \"What was Uber's revenue growth in 2021?\"}\n",
      "\u001b[0m\u001b[1;3;34mObservation: The provided context information does not contain specific details about Uber's revenue growth in 2021.\n",
      "\u001b[0m\u001b[1;3;38;5;200mThought: I cannot answer the question with the provided tools.\n",
      "Answer: I cannot answer the question with the provided tools.\n",
      "\u001b[0mI cannot answer the question with the provided tools.\n"
     ]
    }
   ],
   "source": [
    "response = agent.chat(\"Compare Lyft's revenue growth to Uber's revenue growth in 2021.\")\n",
    "print(str(response))"
   ]
  },
  {
   "cell_type": "code",
   "execution_count": 73,
   "metadata": {},
   "outputs": [
    {
     "name": "stdout",
     "output_type": "stream",
     "text": [
      "\u001b[1;3;38;5;200mThought: The current language of the user is: English. I need to use a tool to help me answer the question.\n",
      "Action: uber_10k\n",
      "Action Input: {'input': \"Provide an overview of Uber's financial health in 2021\"}\n",
      "\u001b[0m\u001b[1;3;34mObservation: Uber's financial health in 2021 can be assessed positively based on the information provided in the context. The company's common stock is traded on the New York Stock Exchange under the symbol \"UBER,\" indicating its presence in the public market. Additionally, Uber's annual report on Form 10-K was filed with the Securities and Exchange Commission, showcasing transparency in financial reporting. The company's independent public registered accounting firm is PricewaterhouseCoopers LLP, a reputable firm known for its auditing services. These factors suggest that Uber is committed to financial transparency and accountability, which are essential elements for a healthy financial standing.\n",
      "\u001b[0m\u001b[1;3;38;5;200mThought: I can answer without using any more tools. I'll use the user's language to answer\n",
      "Answer: Based on the information available, Uber's financial health in 2021 appears positive, with indicators such as being publicly traded, filing annual reports with the SEC, and engaging a reputable accounting firm. These factors suggest a commitment to financial transparency and accountability.\n",
      "\u001b[0mBased on the information available, Uber's financial health in 2021 appears positive, with indicators such as being publicly traded, filing annual reports with the SEC, and engaging a reputable accounting firm. These factors suggest a commitment to financial transparency and accountability.\n"
     ]
    }
   ],
   "source": [
    "response = agent.chat(\n",
    "    \"What can you tell me about the financial health of Uber?\"\n",
    ")\n",
    "print(str(response))"
   ]
  },
  {
   "cell_type": "code",
   "execution_count": 74,
   "metadata": {},
   "outputs": [
    {
     "name": "stdout",
     "output_type": "stream",
     "text": [
      "\u001b[1;3;38;5;200mThought: I can answer without using any more tools. I'll use the user's language to answer\n",
      "Answer: The Uber 10-K report for 2021 provides detailed information about the company's financial performance, risks, and strategies. It includes insights into Uber's revenue, expenses, profitability, and overall financial health for the year.\n",
      "\u001b[0mThe Uber 10-K report for 2021 provides detailed information about the company's financial performance, risks, and strategies. It includes insights into Uber's revenue, expenses, profitability, and overall financial health for the year.\n"
     ]
    }
   ],
   "source": [
    "response = agent.chat(\n",
    "    \"summarize the uber 10k report for me.\"\n",
    ")\n",
    "print(str(response))"
   ]
  },
  {
   "cell_type": "code",
   "execution_count": 69,
   "metadata": {},
   "outputs": [
    {
     "name": "stdout",
     "output_type": "stream",
     "text": [
      "\u001b[1;3;38;5;200mThought: The current language of the user is English. I need to use a tool to help me answer the question.\n",
      "Action: uber_10k\n",
      "Action Input: {'input': \"Please provide a summary of Uber's financial performance in 2021.\"}\n",
      "\u001b[0m\u001b[1;3;34mObservation: Uber's financial performance in 2021 can be obtained by requesting a copy of the Company's annual report on Form 10-K filed with the Securities and Exchange Commission. The report will provide detailed information on Uber's financial results for the year.\n",
      "\u001b[0m\u001b[1;3;38;5;200mThought: I cannot answer the question with the provided tools.\n",
      "Answer: Uber's financial performance in 2021 can be obtained by requesting a copy of the Company's annual report on Form 10-K filed with the Securities and Exchange Commission. The report will provide detailed information on Uber's financial results for the year.\n",
      "\u001b[0mUber's financial performance in 2021 can be obtained by requesting a copy of the Company's annual report on Form 10-K filed with the Securities and Exchange Commission. The report will provide detailed information on Uber's financial results for the year.\n"
     ]
    }
   ],
   "source": [
    "response = agent.chat(\n",
    "    \"summarize the financial performance of Uber in 2021 and provide an analysis\"\n",
    ")\n",
    "print(str(response))"
   ]
  },
  {
   "cell_type": "code",
   "execution_count": null,
   "metadata": {},
   "outputs": [],
   "source": []
  }
 ],
 "metadata": {
  "kernelspec": {
   "display_name": "Python 3",
   "language": "python",
   "name": "python3"
  },
  "language_info": {
   "codemirror_mode": {
    "name": "ipython",
    "version": 3
   },
   "file_extension": ".py",
   "mimetype": "text/x-python",
   "name": "python",
   "nbconvert_exporter": "python",
   "pygments_lexer": "ipython3",
   "version": "3.10.14"
  }
 },
 "nbformat": 4,
 "nbformat_minor": 2
}
